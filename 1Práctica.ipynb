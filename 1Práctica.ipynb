{
 "cells": [
  {
   "cell_type": "code",
   "execution_count": 11,
   "id": "551e69c0-3829-4528-a0d8-3ac36a5d5191",
   "metadata": {},
   "outputs": [
    {
     "name": "stdout",
     "output_type": "stream",
     "text": [
      "Días vividos 5520\n"
     ]
    }
   ],
   "source": [
    "enero = 31\n",
    "febrero = 28\n",
    "marzo = 31\n",
    "abril = 30\n",
    "mayo = 31\n",
    "junio = 30\n",
    "julio = 31\n",
    "agosto = 31\n",
    "septiembre = 30\n",
    "octubre = 31\n",
    "noviembre = 30\n",
    "diciembre = 31\n",
    "\n",
    "dia_nac = 31\n",
    "mes_nac = diciembre\n",
    "año_nac = 2009\n",
    "dia_hoy = 4\n",
    "mes_hoy = marzo\n",
    "año_actual = 2025\n",
    "dias_año = 365\n",
    "año_bisiesto = 366\n",
    "\n",
    "print(\"Días vividos\", 366*4+365*11+41)"
   ]
  },
  {
   "cell_type": "code",
   "execution_count": null,
   "id": "ffe10f8c-0e03-41e0-a922-252483386a45",
   "metadata": {},
   "outputs": [],
   "source": []
  }
 ],
 "metadata": {
  "kernelspec": {
   "display_name": "Python [conda env:base] *",
   "language": "python",
   "name": "conda-base-py"
  },
  "language_info": {
   "codemirror_mode": {
    "name": "ipython",
    "version": 3
   },
   "file_extension": ".py",
   "mimetype": "text/x-python",
   "name": "python",
   "nbconvert_exporter": "python",
   "pygments_lexer": "ipython3",
   "version": "3.12.7"
  }
 },
 "nbformat": 4,
 "nbformat_minor": 5
}
