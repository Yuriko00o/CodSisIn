{
 "cells": [
  {
   "cell_type": "code",
   "execution_count": null,
   "id": "ffe10f8c-0e03-41e0-a922-252483386a45",
   "metadata": {},
   "outputs": [],
   "source": [
    "tokio = +15\n",
    "londres = +7\n",
    "nueva_york = +1\n",
    "los_angeles = -2\n",
    "paris = +7\n",
    "\n",
    "cantidad_hora = int(input(\"ingresa la hora a convertir\"  ))\n",
    "cantidad2 = input(\"que ciudad quieres consultar?\"  )\n",
    "if cantidad2 == tokio:\n",
    "    print(tokio*cantidad_hora)\n",
    "elif cantidad2 == londres:\n",
    "    print(londres*cantidad_hora)\n",
    "elif cantidad2 == nueva_york:\n",
    "    print(nueva_york*cantidad_horas)\n",
    "elif cantidad2 == los_angeles:\n",
    "    print(euro*cantidad_hor)\n",
    "else:\n",
    "    print(libra*cantidad_pesos)"
   ]
  }
 ],
 "metadata": {
  "kernelspec": {
   "display_name": "Python [conda env:base] *",
   "language": "python",
   "name": "conda-base-py"
  },
  "language_info": {
   "codemirror_mode": {
    "name": "ipython",
    "version": 3
   },
   "file_extension": ".py",
   "mimetype": "text/x-python",
   "name": "python",
   "nbconvert_exporter": "python",
   "pygments_lexer": "ipython3",
   "version": "3.12.7"
  }
 },
 "nbformat": 4,
 "nbformat_minor": 5
}
