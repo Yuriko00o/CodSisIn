{
 "cells": [
  {
   "cell_type": "code",
   "execution_count": 1,
   "id": "0440176f-8892-4317-b21d-7b48bddd376c",
   "metadata": {},
   "outputs": [
    {
     "name": "stdin",
     "output_type": "stream",
     "text": [
      "cantidad en pesos a convertir 255\n",
      "a que lo deseas convertir? yen\n"
     ]
    },
    {
     "name": "stdout",
     "output_type": "stream",
     "text": [
      "6520.35\n"
     ]
    }
   ],
   "source": [
    "yuan = 2.81\n",
    "yen = 0.13\n",
    "dolar = 20.54\n",
    "euro = 21.24\n",
    "libra = 25.57\n",
    "\n",
    "cantidad_pesos = int(input(\"cantidad en pesos a convertir\"  ))\n",
    "cantidad2 = input(\"a que lo deseas convertir?\")\n",
    "if cantidad2 == yuan:\n",
    "    print(yuan*cantidad_pesos)\n",
    "elif cantidad2 == yen:\n",
    "    print(yen*cantidad_pesos)\n",
    "elif cantidad2 == dolar:\n",
    "    print(dolar*cantidad_pesos)\n",
    "elif cantidad2 == euro:\n",
    "    print(euro*cantidad_pesos)\n",
    "else:\n",
    "    print(libra*cantidad_pesos)"
   ]
  },
  {
   "cell_type": "code",
   "execution_count": null,
   "id": "286ad5c2-a9e2-492f-98e3-9105516720be",
   "metadata": {},
   "outputs": [],
   "source": []
  }
 ],
 "metadata": {
  "kernelspec": {
   "display_name": "Python [conda env:base] *",
   "language": "python",
   "name": "conda-base-py"
  },
  "language_info": {
   "codemirror_mode": {
    "name": "ipython",
    "version": 3
   },
   "file_extension": ".py",
   "mimetype": "text/x-python",
   "name": "python",
   "nbconvert_exporter": "python",
   "pygments_lexer": "ipython3",
   "version": "3.12.7"
  }
 },
 "nbformat": 4,
 "nbformat_minor": 5
}
