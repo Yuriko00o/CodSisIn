{
 "cells": [
  {
   "cell_type": "code",
   "execution_count": 64,
   "id": "5b69c974-51da-4bba-92c2-8cce2a18c5fa",
   "metadata": {},
   "outputs": [
    {
     "name": "stdin",
     "output_type": "stream",
     "text": [
      "Ingresa el nombre de una ciudad para saber el monumento mas famoso de esa ciudad    Paris\n"
     ]
    },
    {
     "name": "stdout",
     "output_type": "stream",
     "text": [
      "Su monumento es  Torre Eiffel\n"
     ]
    }
   ],
   "source": [
    "\n",
    "ciudad = input(\"Ingresa el nombre de una ciudad para saber el monumento mas famoso de esa ciudad   \")\n",
    "monumentos = {\n",
    "    \"Delhi\": \"Red Fort\", \n",
    "    \"Paris\": \"Torre Eiffel\",\n",
    "    \"Nueva York\": \"Estatua de la Libertad\"\n",
    "}\n",
    "print(\"Su monumento es \", monumentos[ciudad])\n"
   ]
  },
  {
   "cell_type": "code",
   "execution_count": 60,
   "id": "ce72b661-2c1d-412f-b6da-fea31dd113f4",
   "metadata": {},
   "outputs": [
    {
     "name": "stdin",
     "output_type": "stream",
     "text": [
      "ingresa el primer número    8\n",
      "ingresa el segundo número    5\n"
     ]
    },
    {
     "name": "stdout",
     "output_type": "stream",
     "text": [
      "8 es mayor que 5\n"
     ]
    }
   ],
   "source": [
    "num_uno = int(input(\"ingresa el primer número   \"))\n",
    "num_dos = int(input(\"ingresa el segundo número   \"))\n",
    "if num_uno > num_dos:\n",
    "    print(num_uno, \"es mayor que\", num_dos)\n",
    "else:\n",
    "    print(num_uno, \"es menor que\", num_dos)"
   ]
  },
  {
   "cell_type": "code",
   "execution_count": 42,
   "id": "00a67875-6194-4552-879c-7dc33740940f",
   "metadata": {},
   "outputs": [
    {
     "name": "stdin",
     "output_type": "stream",
     "text": [
      "Escribe tu edad para saber si puedes votar 29\n"
     ]
    },
    {
     "name": "stdout",
     "output_type": "stream",
     "text": [
      "Puedes votar\n"
     ]
    }
   ],
   "source": [
    "edad = int(input(\"Escribe tu edad para saber si puedes votar\"   ))\n",
    "if edad >18:\n",
    "    print(\"Puedes votar\")\n",
    "else:\n",
    "    print(\"no puedes votar\")"
   ]
  },
  {
   "cell_type": "code",
   "execution_count": 36,
   "id": "12bfc0c9-a481-4a43-b1b1-a46db6b7a1c4",
   "metadata": {},
   "outputs": [
    {
     "name": "stdout",
     "output_type": "stream",
     "text": [
      "escribe la edad de la primera persona  \n"
     ]
    },
    {
     "ename": "TypeError",
     "evalue": "int() argument must be a string, a bytes-like object or a real number, not 'NoneType'",
     "output_type": "error",
     "traceback": [
      "\u001b[1;31m---------------------------------------------------------------------------\u001b[0m",
      "\u001b[1;31mTypeError\u001b[0m                                 Traceback (most recent call last)",
      "Cell \u001b[1;32mIn[36], line 1\u001b[0m\n\u001b[1;32m----> 1\u001b[0m uno \u001b[38;5;241m=\u001b[39m \u001b[38;5;28mint\u001b[39m(\u001b[38;5;28mprint\u001b[39m(\u001b[38;5;124m\"\u001b[39m\u001b[38;5;124mescribe la edad de la primera persona  \u001b[39m\u001b[38;5;124m\"\u001b[39m))\n",
      "\u001b[1;31mTypeError\u001b[0m: int() argument must be a string, a bytes-like object or a real number, not 'NoneType'"
     ]
    }
   ],
   "source": [
    "uno = int(input(\"escribe la edad de la primera persona  \"))\n",
    "\n",
    "b = int(input(\"escribe la edad de la segunda persona  \"))\n",
    "\n",
    "c = int(input(\"escribe la edad de la tercera persona  \"))\n",
    "\n",
    "d = int(input(\"escribe la edad de la cuarta persona  \"))"
   ]
  },
  {
   "cell_type": "code",
   "execution_count": null,
   "id": "82fd6e24-92b9-4006-b3bd-9290158c9531",
   "metadata": {},
   "outputs": [],
   "source": []
  }
 ],
 "metadata": {
  "kernelspec": {
   "display_name": "Python [conda env:base] *",
   "language": "python",
   "name": "conda-base-py"
  },
  "language_info": {
   "codemirror_mode": {
    "name": "ipython",
    "version": 3
   },
   "file_extension": ".py",
   "mimetype": "text/x-python",
   "name": "python",
   "nbconvert_exporter": "python",
   "pygments_lexer": "ipython3",
   "version": "3.12.7"
  }
 },
 "nbformat": 4,
 "nbformat_minor": 5
}
