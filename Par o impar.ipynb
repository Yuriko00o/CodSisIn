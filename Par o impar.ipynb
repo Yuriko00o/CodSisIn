{
 "cells": [
  {
   "cell_type": "code",
   "execution_count": 19,
   "id": "bd96ed01-c151-4d5b-9cc1-bb02606397ba",
   "metadata": {},
   "outputs": [
    {
     "name": "stdin",
     "output_type": "stream",
     "text": [
      "Cuántos años tienes? 15\n",
      "Cuál es tu nombre? Yuriko\n",
      "Cuál profesión siempre has querido tener militar\n"
     ]
    },
    {
     "name": "stdout",
     "output_type": "stream",
     "text": [
      "mi nombre es Yuriko tengo 15 años de edad, y siempre he querido ser militar\n"
     ]
    }
   ],
   "source": [
    "edad = input(\"Cuántos años tienes?\")\n",
    "nombre = input(\"Cuál es tu nombre?\")\n",
    "profesión = input(\"Cuál profesión siempre has querido tener\")\n",
    "print(\"mi nombre es\", nombre, \"tengo\", edad, \"años de edad, y siempre he querido ser\", profesión)"
   ]
  },
  {
   "cell_type": "code",
   "execution_count": null,
   "id": "933f39a7-9a7f-4936-a71d-b3569650ed93",
   "metadata": {},
   "outputs": [],
   "source": []
  }
 ],
 "metadata": {
  "kernelspec": {
   "display_name": "Python [conda env:base] *",
   "language": "python",
   "name": "conda-base-py"
  },
  "language_info": {
   "codemirror_mode": {
    "name": "ipython",
    "version": 3
   },
   "file_extension": ".py",
   "mimetype": "text/x-python",
   "name": "python",
   "nbconvert_exporter": "python",
   "pygments_lexer": "ipython3",
   "version": "3.12.7"
  }
 },
 "nbformat": 4,
 "nbformat_minor": 5
}
