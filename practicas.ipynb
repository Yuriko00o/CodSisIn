{
 "cells": [
  {
   "cell_type": "code",
   "execution_count": null,
   "id": "bd96ed01-c151-4d5b-9cc1-bb02606397ba",
   "metadata": {},
   "outputs": [],
   "source": [
    "edad = input(\"Cuántos años tienes?\")\n",
    "nombre = input(\"Cuál es tu nombre\"?)\n",
    "profesión = input(\"Cuál profesión siempre has querido tener\")\n",
    "print(\"mi nombre es\", nombre, \"tengo\", edad, años de edad"
   ]
  }
 ],
 "metadata": {
  "kernelspec": {
   "display_name": "Python [conda env:base] *",
   "language": "python",
   "name": "conda-base-py"
  },
  "language_info": {
   "codemirror_mode": {
    "name": "ipython",
    "version": 3
   },
   "file_extension": ".py",
   "mimetype": "text/x-python",
   "name": "python",
   "nbconvert_exporter": "python",
   "pygments_lexer": "ipython3",
   "version": "3.12.7"
  }
 },
 "nbformat": 4,
 "nbformat_minor": 5
}
